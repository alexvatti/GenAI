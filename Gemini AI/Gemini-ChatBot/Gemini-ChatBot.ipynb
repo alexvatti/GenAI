{
 "cells": [
  {
   "cell_type": "code",
   "execution_count": 6,
   "id": "c10f8929",
   "metadata": {
    "scrolled": false
   },
   "outputs": [
    {
     "name": "stdout",
     "output_type": "stream",
     "text": [
      "models list\n",
      "models/chat-bison-001\n",
      "models/text-bison-001\n",
      "models/embedding-gecko-001\n",
      "models/gemini-1.0-pro\n",
      "models/gemini-1.0-pro-001\n",
      "models/gemini-1.0-pro-latest\n",
      "models/gemini-1.0-pro-vision-latest\n",
      "models/gemini-1.5-flash\n",
      "models/gemini-1.5-flash-001\n",
      "models/gemini-1.5-flash-latest\n",
      "models/gemini-1.5-pro\n",
      "models/gemini-1.5-pro-001\n",
      "models/gemini-1.5-pro-latest\n",
      "models/gemini-pro\n",
      "models/gemini-pro-vision\n",
      "models/embedding-001\n",
      "models/text-embedding-004\n",
      "models/aqa\n",
      "Enter a query : for exit: quit/done?who is the PM of india?\n",
      "Narendra Modi\n",
      "Enter a query : for exit: quit/done?What is his age?\n",
      "72 years (born September 17, 1950)\n",
      "Enter a query : for exit: quit/done?Where he from?\n",
      "Vadnagar, Mehsana district, Gujarat, India\n",
      "Enter a query : for exit: quit/done?Does he do yoga ?\n",
      "Yes, Narendra Modi is known to practice yoga regularly. He has often spoken about the benefits of yoga and has encouraged people to adopt it as part of their daily routine. Modi has also performed yoga demonstrations on several occasions, including during his speeches and public events.\n",
      "\n",
      "In 2015, Modi launched the \"International Day of Yoga\" which is celebrated annually on June 21st. The aim of this day is to promote the practice of yoga around the world and to raise awareness about its benefits.\n",
      "\n",
      "Modi has credited yoga with helping him to stay fit and focused, and has said that it has played a significant role in his personal and professional life.\n",
      "Enter a query : for exit: quit/done?what is his values?\n",
      "Narendra Modi's values can be inferred from his speeches, writings, and actions. Some of the key values that he has emphasized include:\n",
      "\n",
      "* **Nationalism:** Modi is a strong nationalist who believes in putting India first. He has often spoken about the need to revive India's ancient glory and to make it a leading nation in the world.\n",
      "* **Hindutva:** Modi is a devout Hindu and believes in the importance of Hindu culture and values. He has said that India's strength lies in its Hindu identity.\n",
      "* **Economic development:** Modi is a pro-business leader who believes in the power of free markets. He has implemented a number of economic reforms aimed at boosting growth and creating jobs.\n",
      "* **Social justice:** Modi is committed to social justice and equality for all Indians. He has launched a number of programs aimed at improving the lives of the poor and marginalized.\n",
      "* **Strong leadership:** Modi is a strong and decisive leader who is not afraid to take tough decisions. He has said that India needs a strong leader who can take the country forward.\n",
      "\n",
      "In addition to these core values, Modi has also emphasized the importance of other values such as discipline, hard work, and integrity. He has often said that these values are essential for individual and national success.\n",
      "\n",
      "It is important to note that Modi's values have been the subject of some controversy. Some critics have accused him of being too nationalistic, too focused on Hindutva, and too authoritarian. However, Modi's supporters argue that his values are in line with the majority of Indians and that he is a strong and effective leader who is committed to the betterment of the country.\n",
      "Enter a query : for exit: quit/done?done\n"
     ]
    }
   ],
   "source": [
    "import os\n",
    "from PIL import Image\n",
    "from dotenv import load_dotenv\n",
    "import google.generativeai as genai\n",
    "\n",
    "def configure_access():\n",
    "    load_dotenv()\n",
    "    genai.configure(api_key=os.getenv(\"GOOGLE_API_KEY\"))\n",
    "    print(\"models list\")\n",
    "    for m in genai.list_models():\n",
    "        print(m.name)\n",
    "        \n",
    "    model = genai.GenerativeModel('gemini-pro')\n",
    "    return model\n",
    "    \n",
    "\n",
    "model=configure_access()\n",
    "chat=model.start_chat(history=[])\n",
    "while True:\n",
    "    query=input(\"Enter a query : for exit: quit/done?\")\n",
    "    if query == quit or query==\"done\" or query == \"Done\":\n",
    "        break\n",
    "    response=chat.send_message(query)\n",
    "    print(response.text)\n"
   ]
  },
  {
   "cell_type": "code",
   "execution_count": null,
   "id": "1f82fe33",
   "metadata": {},
   "outputs": [],
   "source": []
  }
 ],
 "metadata": {
  "kernelspec": {
   "display_name": "Python 3 (ipykernel)",
   "language": "python",
   "name": "python3"
  },
  "language_info": {
   "codemirror_mode": {
    "name": "ipython",
    "version": 3
   },
   "file_extension": ".py",
   "mimetype": "text/x-python",
   "name": "python",
   "nbconvert_exporter": "python",
   "pygments_lexer": "ipython3",
   "version": "3.11.5"
  }
 },
 "nbformat": 4,
 "nbformat_minor": 5
}
