{
 "cells": [
  {
   "cell_type": "code",
   "execution_count": 4,
   "id": "f7212a73",
   "metadata": {
    "scrolled": false
   },
   "outputs": [
    {
     "name": "stdout",
     "output_type": "stream",
     "text": [
      "models list\n",
      "models/chat-bison-001\n",
      "models/text-bison-001\n",
      "models/embedding-gecko-001\n",
      "models/gemini-1.0-pro\n",
      "models/gemini-1.0-pro-001\n",
      "models/gemini-1.0-pro-latest\n",
      "models/gemini-1.0-pro-vision-latest\n",
      "models/gemini-1.5-flash\n",
      "models/gemini-1.5-flash-001\n",
      "models/gemini-1.5-flash-latest\n",
      "models/gemini-1.5-pro\n",
      "models/gemini-1.5-pro-001\n",
      "models/gemini-1.5-pro-latest\n",
      "models/gemini-pro\n",
      "models/gemini-pro-vision\n",
      "models/embedding-001\n",
      "models/text-embedding-004\n",
      "models/aqa\n",
      "Narendra Modi\n"
     ]
    }
   ],
   "source": [
    "import os\n",
    "from PIL import Image\n",
    "from dotenv import load_dotenv\n",
    "import google.generativeai as genai\n",
    "\n",
    "def configure_access():\n",
    "    load_dotenv()\n",
    "    genai.configure(api_key=os.getenv(\"GOOGLE_API_KEY\"))\n",
    "    print(\"models list\")\n",
    "    for m in genai.list_models():\n",
    "        print(m.name)\n",
    "        \n",
    "    model = genai.GenerativeModel('gemini-pro')\n",
    "    return model\n",
    "\n",
    "def chat(query,model):\n",
    "    chat=model.start_chat(history=[])\n",
    "    response=chat.send_message(query)\n",
    "    print(response.text)\n",
    "    \n",
    "\n",
    "model=configure_access()\n",
    "while True:\n",
    "    query=input(\"Enter a query : for exit: quit/done?\")\n",
    "    if query == quit or query==\"done\" or query == \"Done\":\n",
    "        break\n",
    "    chat(query,model)"
   ]
  },
  {
   "cell_type": "code",
   "execution_count": null,
   "id": "91e33e0f",
   "metadata": {},
   "outputs": [],
   "source": []
  },
  {
   "cell_type": "code",
   "execution_count": null,
   "id": "fc35b990",
   "metadata": {},
   "outputs": [],
   "source": []
  }
 ],
 "metadata": {
  "kernelspec": {
   "display_name": "Python 3 (ipykernel)",
   "language": "python",
   "name": "python3"
  },
  "language_info": {
   "codemirror_mode": {
    "name": "ipython",
    "version": 3
   },
   "file_extension": ".py",
   "mimetype": "text/x-python",
   "name": "python",
   "nbconvert_exporter": "python",
   "pygments_lexer": "ipython3",
   "version": "3.11.5"
  }
 },
 "nbformat": 4,
 "nbformat_minor": 5
}
