{
 "cells": [
  {
   "cell_type": "markdown",
   "id": "73e25a8b",
   "metadata": {},
   "source": [
    "# Python Spacy Coreference Resolution\n",
    "##  Replaces the pronoun with the subject\n",
    "\n",
    "###  Review by Michael Wood. Yesterday I saw the movie Jaws. It was incredible. The movie left a lasting impression on me.\n",
    "### ->\n",
    "###  Review by Michael Wood. Yesterday I (Michael Wood) saw the movie Jaws. It (The movie Jaws) was incredible. The movie Jaws left a lasting impression on Michael Wood"
   ]
  },
  {
   "cell_type": "code",
   "execution_count": null,
   "id": "9e9de1f7",
   "metadata": {},
   "outputs": [],
   "source": [
    "# Commandline\n",
    "!pip install spacy\n",
    "!pip install spacy-experimental==0.6.2\n",
    "!pip install https://github.com/explosion/spacy-experimental/releases/download/v0.6.1/en_coreference_web_trf-3.4.0a2-py3-none-any.whl"
   ]
  },
  {
   "cell_type": "code",
   "execution_count": 1,
   "id": "4d01813d",
   "metadata": {},
   "outputs": [
    {
     "name": "stdout",
     "output_type": "stream",
     "text": [
      "WARNING:tensorflow:From C:\\Users\\91956\\anaconda3\\Lib\\site-packages\\keras\\src\\losses.py:2976: The name tf.losses.sparse_softmax_cross_entropy is deprecated. Please use tf.compat.v1.losses.sparse_softmax_cross_entropy instead.\n",
      "\n",
      "{'coref_clusters_1': [an organization's, their], 'coref_clusters_2': [the systematic monitoring and management of an organization's IT assets throughout their lifecycle, This process]}\n",
      "Asset tracking allow organizations too keep track of physical assets, by manually scanning barcode labels, or using GPS, BLE, or RFID tags. IT Asset Management Tracking involves the systematic monitoring and management of an organization's IT assets throughout an organization's lifecycle. the systematic monitoring and management of an organization's IT assets throughout their lifecycle encompasses the identification, classification, tracking, and maintenance of various IT assets to ensure efficient utilization, security, and compliance. By implementing robust IT asset management tracking practices, organizations can streamline operations, enhance security measures, and optimize asset performance.\n"
     ]
    }
   ],
   "source": [
    "import spacy\n",
    "\n",
    "\n",
    "def load_nlp_model(model_name):\n",
    "    \"\"\"Load the spaCy NLP model.\"\"\"\n",
    "    return spacy.load(model_name)\n",
    "\n",
    "\n",
    "def replace_coreferences(text, coref_clusters):\n",
    "    \"\"\"\n",
    "    Replace coreferences in the text with their main mention.\n",
    "\n",
    "    Args:\n",
    "        text (str): The original text.\n",
    "        coref_clusters (dict): A dictionary of coreference clusters.\n",
    "\n",
    "    Returns:\n",
    "        str: The text with coreferences replaced.\n",
    "    \"\"\"\n",
    "    for cluster in coref_clusters.values():\n",
    "        cluster = list(cluster)\n",
    "        main_mention = cluster[0]\n",
    "        for coref in cluster[1:]:\n",
    "            text = text.replace(f\" {coref} \", f\" {main_mention} \")\n",
    "    return text\n",
    "\n",
    "\n",
    "# Constants\n",
    "COREF_MODEL_NAME = \"en_coreference_web_trf\"\n",
    "\n",
    "# Load the coreference model and process the text\n",
    "nlp_coref = load_nlp_model(COREF_MODEL_NAME)\n",
    "text = (\n",
    "    \"Asset tracking allow organizations too keep track of physical assets, by manually scanning barcode labels, \"\n",
    "    \"or using GPS, BLE, or RFID tags. IT Asset Management Tracking involves the systematic monitoring and \"\n",
    "    \"management of an organization's IT assets throughout their lifecycle. This process encompasses the identification, \"\n",
    "    \"classification, tracking, and maintenance of various IT assets to ensure efficient utilization, security, and compliance. \"\n",
    "    \"By implementing robust IT asset management tracking practices, organizations can streamline operations, enhance security measures, \"\n",
    "    \"and optimize asset performance.\"\n",
    ")\n",
    "doc_coref = nlp_coref(text)\n",
    "print(doc_coref.spans)\n",
    "\n",
    "# Replace coreferences in the text\n",
    "updated_text = replace_coreferences(text, doc_coref.spans)\n",
    "\n",
    "print(updated_text)"
   ]
  },
  {
   "cell_type": "code",
   "execution_count": null,
   "id": "66dea606",
   "metadata": {},
   "outputs": [],
   "source": []
  }
 ],
 "metadata": {
  "kernelspec": {
   "display_name": "Python 3 (ipykernel)",
   "language": "python",
   "name": "python3"
  },
  "language_info": {
   "codemirror_mode": {
    "name": "ipython",
    "version": 3
   },
   "file_extension": ".py",
   "mimetype": "text/x-python",
   "name": "python",
   "nbconvert_exporter": "python",
   "pygments_lexer": "ipython3",
   "version": "3.11.5"
  }
 },
 "nbformat": 4,
 "nbformat_minor": 5
}
